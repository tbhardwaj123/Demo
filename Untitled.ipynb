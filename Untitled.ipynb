{
 "cells": [
  {
   "cell_type": "code",
   "execution_count": 4,
   "id": "b73ca0a9",
   "metadata": {},
   "outputs": [
    {
     "name": "stdout",
     "output_type": "stream",
     "text": [
      "Python's \"World\"\n"
     ]
    }
   ],
   "source": [
    "print('Python\\'s \"World\"')"
   ]
  },
  {
   "cell_type": "code",
   "execution_count": 5,
   "id": "277a2fde",
   "metadata": {},
   "outputs": [
    {
     "name": "stdout",
     "output_type": "stream",
     "text": [
      "are you 18+yes\n"
     ]
    },
    {
     "data": {
      "text/plain": [
       "'yes'"
      ]
     },
     "execution_count": 5,
     "metadata": {},
     "output_type": "execute_result"
    }
   ],
   "source": [
    "input(\"are you 18+\")"
   ]
  },
  {
   "cell_type": "code",
   "execution_count": 9,
   "id": "514aa15b",
   "metadata": {},
   "outputs": [
    {
     "name": "stdout",
     "output_type": "stream",
     "text": [
      "Item \t Qty \n",
      "apple \t 5 \n",
      "plums \t 3\n"
     ]
    }
   ],
   "source": [
    "print(\"Item \\t Qty \\napple \\t 5 \\nplums \\t 3\")\n"
   ]
  },
  {
   "cell_type": "code",
   "execution_count": 19,
   "id": "12ecce3a",
   "metadata": {},
   "outputs": [
    {
     "name": "stdout",
     "output_type": "stream",
     "text": [
      "I am a Polite Person!\n",
      "I am a Polite Person!\n",
      "I am a Polite Person!\n",
      "\n"
     ]
    }
   ],
   "source": [
    "\"python\"+\"1\"\n",
    "print((\"I\"+\" am\"+\" a\"+\" Polite\"+\" Person!\\n\") *3)"
   ]
  },
  {
   "cell_type": "code",
   "execution_count": null,
   "id": "3d0c7205",
   "metadata": {},
   "outputs": [
    {
     "ename": "SyntaxError",
     "evalue": "invalid syntax (2216447895.py, line 1)",
     "output_type": "error",
     "traceback": [
      "\u001b[1;36m  Cell \u001b[1;32mIn[20], line 1\u001b[1;36m\u001b[0m\n\u001b[1;33m    git pull origin main\u001b[0m\n\u001b[1;37m        ^\u001b[0m\n\u001b[1;31mSyntaxError\u001b[0m\u001b[1;31m:\u001b[0m invalid syntax\n"
     ]
    }
   ],
   "source": [
    "git pull origin main\n"
   ]
  }
 ],
 "metadata": {
  "kernelspec": {
   "display_name": "Python 3 (ipykernel)",
   "language": "python",
   "name": "python3"
  },
  "language_info": {
   "codemirror_mode": {
    "name": "ipython",
    "version": 3
   },
   "file_extension": ".py",
   "mimetype": "text/x-python",
   "name": "python",
   "nbconvert_exporter": "python",
   "pygments_lexer": "ipython3",
   "version": "3.11.0"
  }
 },
 "nbformat": 4,
 "nbformat_minor": 5
}
